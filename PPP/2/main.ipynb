{
 "cells": [
  {
   "cell_type": "code",
   "execution_count": 21,
   "metadata": {},
   "outputs": [],
   "source": [
    "import numpy as np\n",
    "import pandas as pd\n",
    "import tensorflow as tf\n",
    "import tensorflow.keras.backend as K"
   ]
  },
  {
   "cell_type": "code",
   "execution_count": 61,
   "metadata": {},
   "outputs": [
    {
     "data": {
      "text/plain": [
       "((10000, 28, 28), (10000,))"
      ]
     },
     "execution_count": 61,
     "metadata": {},
     "output_type": "execute_result"
    }
   ],
   "source": [
    "#load data\n",
    "from tensorflow.keras import datasets as dt\n",
    "((x_train, y_train), (x_test, y_test)) = dt.mnist.load_data(path='mnist.npz')\n",
    "(x_test.shape, y_test.shape)"
   ]
  },
  {
   "cell_type": "code",
   "execution_count": 62,
   "metadata": {},
   "outputs": [
    {
     "data": {
      "text/plain": [
       "(10000, 28, 28, 1)"
      ]
     },
     "execution_count": 62,
     "metadata": {},
     "output_type": "execute_result"
    }
   ],
   "source": [
    "#reformat to fit with expected shapes for Conv2D\n",
    "x_train = np.expand_dims(x_train, axis=3)\n",
    "x_test = np.expand_dims(x_test, axis=3)\n",
    "x_test.shape"
   ]
  },
  {
   "cell_type": "markdown",
   "metadata": {},
   "source": [
    "if you want to make it a bit more challenging, remove most of the training examples from 1-2 classes, leave just 0-10 from each"
   ]
  },
  {
   "cell_type": "code",
   "execution_count": 68,
   "metadata": {},
   "outputs": [],
   "source": [
    "#build a simple model based on a 2D convolution\n",
    "\n",
    "def get_CNN_model(input_shape):\n",
    "    #use keras.layers.Conv2D interleaved with keras.layers.Maxpooling2D and with some keras.layers.Dense in the end\n",
    "    #alternatively use only dense layers (you will have to Flatten() the inputs)\n",
    "    #keras.Sequential is recommended\n",
    "    #do not forget to set the input shape to the first layer\n",
    "    filter_size = 3\n",
    "    pool_size = 2\n",
    "    from keras.models import Sequential\n",
    "    from keras.layers import Conv2D, MaxPooling2D, Dense, Flatten\n",
    "\n",
    "    model = Sequential([\n",
    "      Conv2D(32, filter_size, input_shape=input_shape,activation='relu'),\n",
    "      MaxPooling2D(pool_size=pool_size),\n",
    "      Conv2D(64, filter_size,activation='relu'),\n",
    "      MaxPooling2D(pool_size=pool_size),\n",
    "      Conv2D(128, filter_size,activation='relu'),\n",
    "      Flatten(),\n",
    "      Dense(1024, activation='softmax'), # this is the output of this NN, the feature vector\n",
    "    ])\n",
    "\n",
    "    return model\n"
   ]
  },
  {
   "cell_type": "code",
   "execution_count": 69,
   "metadata": {},
   "outputs": [
    {
     "name": "stdout",
     "output_type": "stream",
     "text": [
      "_________________________________________________________________\n",
      "Layer (type)                 Output Shape              Param #   \n",
      "=================================================================\n",
      "conv2d_25 (Conv2D)           (None, 26, 26, 32)        320       \n",
      "_________________________________________________________________\n",
      "max_pooling2d_17 (MaxPooling (None, 13, 13, 32)        0         \n",
      "_________________________________________________________________\n",
      "conv2d_26 (Conv2D)           (None, 11, 11, 64)        18496     \n",
      "_________________________________________________________________\n",
      "max_pooling2d_18 (MaxPooling (None, 5, 5, 64)          0         \n",
      "_________________________________________________________________\n",
      "conv2d_27 (Conv2D)           (None, 3, 3, 128)         73856     \n",
      "_________________________________________________________________\n",
      "flatten_9 (Flatten)          (None, 1152)              0         \n",
      "_________________________________________________________________\n",
      "dense_19 (Dense)             (None, 1024)              1180672   \n",
      "=================================================================\n",
      "Total params: 1,273,344\n",
      "Trainable params: 1,273,344\n",
      "Non-trainable params: 0\n",
      "_________________________________________________________________\n"
     ]
    }
   ],
   "source": [
    "model = get_CNN_model((28,28,1))\n",
    "model.summary()"
   ]
  },
  {
   "cell_type": "code",
   "execution_count": 70,
   "metadata": {},
   "outputs": [],
   "source": [
    "#construct a siammese network (two towers) from a previous CNN model. \n",
    "#Use some distance/similarity metric (L1, L2, cosine sim) and possibly an activation on top of it (or a simple tf.reduce_sum)\n",
    "def get_Siammese_model(model, input_shape):\n",
    "    #define kers.layers.Input for left and right tower\n",
    "    #parameter sharing (use the same model)\n",
    "    #you may need layer.Lambda()\n",
    "    #keras.Model() prefered here\n",
    "    from keras.models import Model\n",
    "    from keras.layers import Input, Lambda, Dense\n",
    "    import keras.backend as K\n",
    "    \n",
    "    # Define the tensors for the two input images\n",
    "    left_input = Input(input_shape)\n",
    "    right_input = Input(input_shape)\n",
    "    \n",
    "    # Generate the encodings (feature vectors) for the two images\n",
    "    encoded_l = model(left_input)\n",
    "    encoded_r = model(right_input)\n",
    "    \n",
    "    def cosine_distance(vests):\n",
    "        x, y = vests\n",
    "        x = K.l2_normalize(x, axis=-1)\n",
    "        y = K.l2_normalize(y, axis=-1)\n",
    "        return -K.mean(x * y, axis=-1, keepdims=True)\n",
    "\n",
    "    # Add a customized layer to compute the absolute difference between the encodings\n",
    "    L1_layer = Lambda(lambda tensors:K.abs(tensors[0] - tensors[1]))\n",
    "    L1_distance = L1_layer([encoded_l, encoded_r])\n",
    "    \n",
    "    # Add a dense layer with a sigmoid unit to generate the similarity score\n",
    "    prediction = Dense(1,activation='sigmoid')(L1_distance)\n",
    "    \n",
    "    # Connect the inputs with the outputs\n",
    "    model_siam = Model(inputs=[left_input,right_input],outputs=prediction)\n",
    "    \n",
    "    return model_siam  \n",
    "    "
   ]
  },
  {
   "cell_type": "code",
   "execution_count": 71,
   "metadata": {},
   "outputs": [
    {
     "name": "stdout",
     "output_type": "stream",
     "text": [
      "__________________________________________________________________________________________________\n",
      "Layer (type)                    Output Shape         Param #     Connected to                     \n",
      "==================================================================================================\n",
      "input_23 (InputLayer)           (None, 28, 28, 1)    0                                            \n",
      "__________________________________________________________________________________________________\n",
      "input_24 (InputLayer)           (None, 28, 28, 1)    0                                            \n",
      "__________________________________________________________________________________________________\n",
      "sequential_9 (Sequential)       (None, 1024)         1273344     input_23[0][0]                   \n",
      "                                                                 input_24[0][0]                   \n",
      "__________________________________________________________________________________________________\n",
      "lambda_12 (Lambda)              (None, 1024)         0           sequential_9[1][0]               \n",
      "                                                                 sequential_9[2][0]               \n",
      "__________________________________________________________________________________________________\n",
      "dense_20 (Dense)                (None, 1)            1025        lambda_12[0][0]                  \n",
      "==================================================================================================\n",
      "Total params: 1,274,369\n",
      "Trainable params: 1,274,369\n",
      "Non-trainable params: 0\n",
      "__________________________________________________________________________________________________\n"
     ]
    }
   ],
   "source": [
    "model_siam = get_Siammese_model(model, (28,28,1))\n",
    "model_siam.summary()"
   ]
  },
  {
   "cell_type": "code",
   "execution_count": 72,
   "metadata": {},
   "outputs": [],
   "source": [
    "#compile the model with Adam optimizer and e.g. binary cross entropy loss\n",
    "#or define your own loss function, see e.g. here: \n",
    "#you may add the metrics of your choice\n",
    "\n",
    "model_siam.compile(loss=\"binary_crossentropy\", optimizer=\"adam\", metrics=[\"accuracy\"])"
   ]
  },
  {
   "cell_type": "code",
   "execution_count": 73,
   "metadata": {},
   "outputs": [],
   "source": [
    "# source data are in an incompatible format - we need to construct pairs\n",
    "# a batch generator would be better, but lets resort for simple static samples for the sake of simplicity\n",
    "def create_pairs(x, y, size):\n",
    "    pairs = []\n",
    "    labels = []\n",
    "    #select random indices\n",
    "    a = np.random.choice(len(y), size)\n",
    "    b = np.random.choice(len(y), size)\n",
    "    x1 = x[a]\n",
    "    x2 = x[b]\n",
    "    y = [int(i) for i in y[a] == y[b]]\n",
    "             \n",
    "    return (x1, x2, np.array(y))"
   ]
  },
  {
   "cell_type": "code",
   "execution_count": 74,
   "metadata": {},
   "outputs": [
    {
     "name": "stdout",
     "output_type": "stream",
     "text": [
      "Train on 300000 samples, validate on 10000 samples\n",
      "Epoch 1/1\n",
      "300000/300000 [==============================] - 217s 722us/step - loss: 0.4516 - acc: 0.8985 - val_loss: 0.3420 - val_acc: 0.9011\n"
     ]
    },
    {
     "data": {
      "text/plain": [
       "<keras.callbacks.History at 0x121100da0>"
      ]
     },
     "execution_count": 74,
     "metadata": {},
     "output_type": "execute_result"
    }
   ],
   "source": [
    "#run the model training (depending on your PC performance, you may set lower/higher train set sizes)\n",
    "#do not increase epochs too much (overfitting)\n",
    "\n",
    "x1, x2, y = create_pairs(x_train, y_train, 300000)\n",
    "x1_test, x2_test, y_pair_test = create_pairs(x_test, y_test, 10000)\n",
    "model_siam.fit([x1, x2], y,\n",
    "          batch_size=128,\n",
    "          epochs=1,\n",
    "          validation_data=([x1_test, x2_test], y_pair_test))"
   ]
  },
  {
   "cell_type": "code",
   "execution_count": null,
   "metadata": {},
   "outputs": [],
   "source": [
    "# real task: classification: get the class of the most similar item\n",
    "# get K samples of each class, label with the max class with maximal similarity to the target\n",
    "\n",
    "def get_samples(x, y):\n",
    "    indices = [(y == i).nonzero()[0][0:10] for i in np.unique(y)]\n",
    "    indices = np.array(indices).flatten()\n",
    "    return (x[indices], y[indices])"
   ]
  },
  {
   "cell_type": "code",
   "execution_count": 32,
   "metadata": {},
   "outputs": [
    {
     "data": {
      "text/plain": [
       "(7, 0)"
      ]
     },
     "execution_count": 32,
     "metadata": {},
     "output_type": "execute_result"
    }
   ],
   "source": [
    "# a simple validation for a single sample. Extend this to get some overall results for the whole test set. \n",
    "# Return, e.g., accuracy\n",
    "i=0\n",
    "x0_sample, y0_sample = get_samples(x_train, y_train)\n",
    "example = x_test[i]\n",
    "x0_test = np.repeat(example[np.newaxis, :, :, :], len(y0_sample), axis=0)\n",
    "pred = np.argmax(model_siam.predict([x0_test, x0_sample]))\n",
    "(y_test[i], y0_sample[pred])"
   ]
  },
  {
   "cell_type": "markdown",
   "metadata": {},
   "source": [
    "## Extensions\n",
    "\n",
    "- Get the embeddings of individual data samples (use the original model)\n",
    "- Do some dimensionality reduction (PCA) and display the selected items based on their embeddings\n",
    "- What similarity metrics did you use & why? What are the consequences?\n",
    "- How does the individual convolutional filters work? Can you display their values for selected inputs?\n"
   ]
  },
  {
   "cell_type": "code",
   "execution_count": null,
   "metadata": {},
   "outputs": [],
   "source": []
  }
 ],
 "metadata": {
  "kernelspec": {
   "display_name": "Python 3",
   "language": "python",
   "name": "python3"
  },
  "language_info": {
   "codemirror_mode": {
    "name": "ipython",
    "version": 3
   },
   "file_extension": ".py",
   "mimetype": "text/x-python",
   "name": "python",
   "nbconvert_exporter": "python",
   "pygments_lexer": "ipython3",
   "version": "3.5.3"
  }
 },
 "nbformat": 4,
 "nbformat_minor": 2
}
